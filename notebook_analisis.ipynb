{
  "cells": [
    {
      "cell_type": "markdown",
      "metadata": {
        "id": "view-in-github",
        "colab_type": "text"
      },
      "source": [
        "<a href=\"https://colab.research.google.com/github/QueMsDa/Telecom-X-karsten-2/blob/main/notebook_analisis.ipynb\" target=\"_parent\"><img src=\"https://colab.research.google.com/assets/colab-badge.svg\" alt=\"Open In Colab\"/></a>"
      ]
    },
    {
      "cell_type": "markdown",
      "id": "bbd140ff",
      "metadata": {
        "id": "bbd140ff"
      },
      "source": [
        "\n",
        "#  Challenge Telecom X - Parte 2\n",
        "## Predicción de Cancelación de Clientes (Churn)\n",
        "\n",
        "Este notebook corresponde a la segunda parte del **Challenge Telecom X**.  \n",
        "El objetivo es **predecir la cancelación de clientes (churn)** utilizando modelos de *Machine Learning*.  \n",
        "\n",
        "---\n"
      ]
    },
    {
      "cell_type": "code",
      "execution_count": null,
      "id": "77d2d89c",
      "metadata": {
        "id": "77d2d89c"
      },
      "outputs": [],
      "source": [
        "\n",
        "#  Importar librerías principales\n",
        "import pandas as pd\n",
        "import numpy as np\n",
        "import matplotlib.pyplot as plt\n",
        "import seaborn as sns\n",
        "\n",
        "from sklearn.model_selection import train_test_split\n",
        "from sklearn.preprocessing import StandardScaler\n",
        "from sklearn.linear_model import LogisticRegression\n",
        "from sklearn.ensemble import RandomForestClassifier\n",
        "from sklearn.metrics import classification_report, confusion_matrix, roc_auc_score, roc_curve\n"
      ]
    },
    {
      "cell_type": "markdown",
      "id": "e83e687b",
      "metadata": {
        "id": "e83e687b"
      },
      "source": [
        "##  Cargar datos"
      ]
    },
    {
      "cell_type": "code",
      "execution_count": null,
      "id": "8867f588",
      "metadata": {
        "id": "8867f588"
      },
      "outputs": [],
      "source": [
        "\n",
        "# Cargar los datos tratados desde un archivo CSV\n",
        "# Asegúrate de subir 'datos_tratados.csv' a Colab antes de ejecutar esta celda\n",
        "\n",
        "df = pd.read_csv(\"datos_tratados.csv\")\n",
        "df.head()\n"
      ]
    },
    {
      "cell_type": "markdown",
      "id": "bd05d27b",
      "metadata": {
        "id": "bd05d27b"
      },
      "source": [
        "##  Análisis Exploratorio de Datos (EDA)"
      ]
    },
    {
      "cell_type": "code",
      "execution_count": null,
      "id": "e5c31767",
      "metadata": {
        "id": "e5c31767"
      },
      "outputs": [],
      "source": [
        "\n",
        "# Información general\n",
        "print(df.info())\n",
        "\n",
        "# Valores nulos\n",
        "print(df.isnull().sum())\n",
        "\n",
        "# Estadísticas descriptivas\n",
        "df.describe()\n"
      ]
    },
    {
      "cell_type": "code",
      "execution_count": null,
      "id": "0fe3f0bc",
      "metadata": {
        "id": "0fe3f0bc"
      },
      "outputs": [],
      "source": [
        "\n",
        "# Distribución de la variable objetivo (ejemplo: 'cancelacion')\n",
        "sns.countplot(x='cancelacion', data=df)\n",
        "plt.title(\"Distribución de la variable objetivo\")\n",
        "plt.show()\n"
      ]
    },
    {
      "cell_type": "markdown",
      "id": "30fa1dea",
      "metadata": {
        "id": "30fa1dea"
      },
      "source": [
        "##  Preparación de Datos"
      ]
    },
    {
      "cell_type": "code",
      "execution_count": null,
      "id": "72d237ac",
      "metadata": {
        "id": "72d237ac"
      },
      "outputs": [],
      "source": [
        "\n",
        "# Dividir en variables predictoras (X) y objetivo (y)\n",
        "X = df.drop(\"cancelacion\", axis=1)\n",
        "y = df[\"cancelacion\"]\n",
        "\n",
        "# Dividir en entrenamiento y prueba (80/20)\n",
        "X_train, X_test, y_train, y_test = train_test_split(\n",
        "    X, y, test_size=0.2, random_state=42, stratify=y\n",
        ")\n",
        "\n",
        "# Normalización de variables numéricas\n",
        "scaler = StandardScaler()\n",
        "X_train_scaled = scaler.fit_transform(X_train)\n",
        "X_test_scaled = scaler.transform(X_test)\n"
      ]
    },
    {
      "cell_type": "markdown",
      "id": "75d089af",
      "metadata": {
        "id": "75d089af"
      },
      "source": [
        "##  Modelos Predictivos"
      ]
    },
    {
      "cell_type": "code",
      "execution_count": null,
      "id": "a87aeb1a",
      "metadata": {
        "id": "a87aeb1a"
      },
      "outputs": [],
      "source": [
        "\n",
        "# Modelo 1: Regresión Logística\n",
        "log_model = LogisticRegression(max_iter=1000)\n",
        "log_model.fit(X_train_scaled, y_train)\n",
        "\n",
        "y_pred_log = log_model.predict(X_test_scaled)\n",
        "y_prob_log = log_model.predict_proba(X_test_scaled)[:,1]\n",
        "\n",
        "print(\"🔹 Regresión Logística\")\n",
        "print(confusion_matrix(y_test, y_pred_log))\n",
        "print(classification_report(y_test, y_pred_log))\n",
        "print(\"AUC:\", roc_auc_score(y_test, y_prob_log))\n"
      ]
    },
    {
      "cell_type": "code",
      "execution_count": null,
      "id": "66fc68eb",
      "metadata": {
        "id": "66fc68eb"
      },
      "outputs": [],
      "source": [
        "\n",
        "# Modelo 2: Random Forest\n",
        "rf_model = RandomForestClassifier(n_estimators=100, random_state=42)\n",
        "rf_model.fit(X_train, y_train)\n",
        "\n",
        "y_pred_rf = rf_model.predict(X_test)\n",
        "y_prob_rf = rf_model.predict_proba(X_test)[:,1]\n",
        "\n",
        "print(\"🔹 Random Forest\")\n",
        "print(confusion_matrix(y_test, y_pred_rf))\n",
        "print(classification_report(y_test, y_pred_rf))\n",
        "print(\"AUC:\", roc_auc_score(y_test, y_prob_rf))\n"
      ]
    },
    {
      "cell_type": "markdown",
      "id": "10de4fcd",
      "metadata": {
        "id": "10de4fcd"
      },
      "source": [
        "##  Importancia de Variables"
      ]
    },
    {
      "cell_type": "code",
      "execution_count": null,
      "id": "3e260c6b",
      "metadata": {
        "id": "3e260c6b"
      },
      "outputs": [],
      "source": [
        "\n",
        "importances = rf_model.feature_importances_\n",
        "indices = np.argsort(importances)[::-1]\n",
        "\n",
        "plt.figure(figsize=(10,6))\n",
        "plt.title(\"Importancia de variables - Random Forest\")\n",
        "plt.bar(range(X.shape[1]), importances[indices])\n",
        "plt.xticks(range(X.shape[1]), X.columns[indices], rotation=90)\n",
        "plt.show()\n"
      ]
    },
    {
      "cell_type": "markdown",
      "id": "f5d43a35",
      "metadata": {
        "id": "f5d43a35"
      },
      "source": [
        "# Sección nueva\n",
        "##  Conclusiones Estratégicas\n",
        "\n",
        "- Los modelos predictivos permiten identificar clientes con mayor probabilidad de cancelación.  \n",
        "- Variables como `contrato`, `metodo_pago`, `cargos_mensuales` y `tiempo_permanencia` suelen influir fuertemente en el churn.  \n",
        "- **Random Forest** suele tener mejor desempeño que la Regresión Logística en este tipo de problemas.  \n",
        "- Este conocimiento ayuda a **Telecom X** a implementar estrategias de retención más efectivas.  \n",
        "\n",
        "---\n"
      ]
    }
  ],
  "metadata": {
    "colab": {
      "provenance": [],
      "include_colab_link": true
    }
  },
  "nbformat": 4,
  "nbformat_minor": 5
}